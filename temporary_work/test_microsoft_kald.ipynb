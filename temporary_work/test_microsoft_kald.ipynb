{
 "cells": [
  {
   "cell_type": "code",
   "execution_count": 24,
   "metadata": {},
   "outputs": [],
   "source": [
    "import requests\n",
    "access_token = \"EwCAA8l6BAAUkj1NuJYtTVha+Mogk+HEiPbQo04AAYjJ+jdvn8EXB5yPOkPxojCnIPHCjoIDDmFIGCOemNpNtrAORVkYbNflcW0cSxmEcLVDfDDRyBtyWVKBJZ3d50t14HUVo9d1k+ztQd3Dblt46PJ0Py978RNtVE8q0rWcNAEfMiPnB0XyMqfDEceSex98+CIoCNacDcV1r3yqBcdj3GEjiI5f8/+I1GnQc2uKHwrnzSRRCUtLx/3KKZxcoSMLiq8WG4b1W7HXsk35BaCAZnrssEAImegGBTzULzEfEDKzBJnm98kVzBCznCQWVy0/Y8NmRZwNF1UJ9w09PxnZ7iAlXIxZlmxkdKTPBXfPHTFY+cgQj7Uqs2S+N4UzO58DZgAACO1BehW5AHEWUAIBCwNJIMn6ajtK6E3Qocbf3uZAp/pDfqozhqm0zuXPQyLsLjP2sK+CDye9j85qyi3bh2HsBhxPj3KzvhX90QGLLCJG8L+YMHtW2F/U4RvK/vTfOp6M0XZWDZ4UOTIly4LW1YbW9ks9rHhxQF+Ga7FwCtDltzphF1Gkdc5rVIjMmbErTaZWH3TZbGo6S8tZnM4ZeTCAq212gw+5M1VYKeH8Lde3fEh0Ie6wUPKaSjqgpD7KcBSz72leAfSDMtbS939lwiCcySoXzRA/HKNsp0svfQSqJmC/ol5PaKDwmmPpAQz17qPZ/r5Nvq4/i+KTb0vmJOPt0OplzdWikJgvdaGMOK4rZ4awf3JdV9kQ1VT7Mte4qWEaoFfjg/VXsHVdKCrRWt7eg8+vCcvOW5VKdOM7ip+xBM9Fc72c7rvvIroOHiCSdARdlaC45FO2aZQCMICKsQFBdbMRTzEpeUugJPitlmxQvByStka+BsWvChA9K1GQX5uc+xHGv7D1FjYaBk7ddfj0ql//GRVGn+yZju/nar4HwkYtL84JCDifhMujSxURqyFIUFOp9BRsH/ZpYlpgLf24EMQAVvx62HpddqummL+f/TJY/ikTmLehSmwtxlTray8UxAP0GPM7eUCU0vVFad7U7G5Ma9M53DQ0AnaUbgaS2zq1fFpIr21Pnxfv3seSjS1rQn+FZwzbcicN5YAqOq28ZnC/alPpRqwqkE24AkcKJBJBh37upsdT8oCk95dlE9LME4WEDoTuHWxJ/Z3UGcCnfgA/RHCms4qmBavqggI=\"\n",
    "verify_url = \"https://graph.microsoft.com/v1.0/me/events\"\n",
    "header = {\"Authorization\": f\"Bearer {access_token}\"}\n",
    "verified = requests.get(verify_url, headers = header)"
   ]
  },
  {
   "cell_type": "code",
   "execution_count": 25,
   "metadata": {},
   "outputs": [],
   "source": [
    "verified = requests.get(\n",
    "    verify_url, \n",
    "    headers = header, \n",
    "    params = {'select': 'id, subject, bodyPreview, start, end, attendees, location'}\n",
    ")"
   ]
  },
  {
   "cell_type": "code",
   "execution_count": 154,
   "metadata": {},
   "outputs": [],
   "source": [
    "microsoft_data = verified.json()['value']\n",
    "\n",
    "output = []\n",
    "for meeting in verified.json()['value']:\n",
    "    output_data = {}\n",
    "    output_data['microsoft_id'] = meeting['id']\n",
    "    output_data['subject'] = meeting['subject']\n",
    "    output_data['bodyPreview'] = meeting['bodyPreview']\n",
    "    output_data['start_time'] = meeting['start']['dateTime']\n",
    "    output_data['end_time'] = meeting['end']['dateTime']\n",
    "\n",
    "    attendees_name, attendees_email = [], []\n",
    "    for attendee in meeting['attendees']:\n",
    "        email, name = attendee['emailAddress']['address'], attendee['emailAddress']['name']\n",
    "        attendees_email.append(email), attendees_name.append(name)\n",
    "    output_data['attendees_name'] = attendees_name\n",
    "    output_data['attendees_email'] = attendees_email\n",
    "\n",
    "    output.append(output_data)"
   ]
  },
  {
   "cell_type": "code",
   "execution_count": 163,
   "metadata": {},
   "outputs": [
    {
     "data": {
      "text/plain": [
       "[]"
      ]
     },
     "execution_count": 163,
     "metadata": {},
     "output_type": "execute_result"
    }
   ],
   "source": [
    "output[8]['attendees_email']"
   ]
  },
  {
   "cell_type": "code",
   "execution_count": 140,
   "metadata": {},
   "outputs": [
    {
     "data": {
      "text/plain": [
       "['Søren Hauskov Pilgaard',\n",
       " 'Cathrine Ardahl Jensen',\n",
       " 'Karl Wilhelm Tjensvoll',\n",
       " 'Marcus Bredtved',\n",
       " 'Stig Heinesen',\n",
       " 'Marcus Horskær Bredtved']"
      ]
     },
     "execution_count": 140,
     "metadata": {},
     "output_type": "execute_result"
    }
   ],
   "source": []
  },
  {
   "cell_type": "code",
   "execution_count": 166,
   "metadata": {},
   "outputs": [
    {
     "data": {
      "text/plain": [
       "'Kantinen'"
      ]
     },
     "execution_count": 166,
     "metadata": {},
     "output_type": "execute_result"
    }
   ],
   "source": [
    "verified.json()['value'][0]['location']['displayName']"
   ]
  }
 ],
 "metadata": {
  "kernelspec": {
   "display_name": "Python 3.10.2 64-bit",
   "language": "python",
   "name": "python3"
  },
  "language_info": {
   "codemirror_mode": {
    "name": "ipython",
    "version": 3
   },
   "file_extension": ".py",
   "mimetype": "text/x-python",
   "name": "python",
   "nbconvert_exporter": "python",
   "pygments_lexer": "ipython3",
   "version": "3.10.2"
  },
  "orig_nbformat": 4,
  "vscode": {
   "interpreter": {
    "hash": "d75a83f8aa8b9afb0c93951e14d092f7e30117cfdb3a0ca0aba105349e7df645"
   }
  }
 },
 "nbformat": 4,
 "nbformat_minor": 2
}
